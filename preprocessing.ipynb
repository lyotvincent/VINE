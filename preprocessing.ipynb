{
 "nbformat": 4,
 "nbformat_minor": 2,
 "metadata": {
  "language_info": {
   "name": "python",
   "codemirror_mode": {
    "name": "ipython",
    "version": 3
   }
  },
  "orig_nbformat": 2,
  "file_extension": ".py",
  "mimetype": "text/x-python",
  "name": "python",
  "npconvert_exporter": "python",
  "pygments_lexer": "ipython3",
  "version": 3
 },
 "cells": [
  {
   "cell_type": "code",
   "execution_count": null,
   "metadata": {},
   "outputs": [],
   "source": [
    "class Preprocessing:\n",
    "\n",
    "    def __init__(self, input_1=None, input_2=None):\n",
    "        self.input_1 = input_1\n",
    "        self.input_2 = input_2"
   ]
  },
  {
   "cell_type": "code",
   "execution_count": null,
   "metadata": {},
   "outputs": [],
   "source": [
    "    def fastp_single_end(self):\n",
    "        print('start fastp single end')\n",
    "        subprocess.run(\"fastp -i %s -o %s\" % (self.input_1, ''), shell=True, check=True)\n",
    "        print('end fastp single end')"
   ]
  },
  {
   "cell_type": "code",
   "execution_count": null,
   "metadata": {},
   "outputs": [],
   "source": [
    "    def fastp_paired_end(self):\n",
    "        print('start fastp paired end')\n",
    "        subprocess.run(\"fastp -i %s -I %s -o %s -O %s\" % (self.input_1, self.input_2, '', ''), shell=True, check=True)\n",
    "        print('end fastp paired end')"
   ]
  }
 ]
}